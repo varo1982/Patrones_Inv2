{
 "cells": [
  {
   "cell_type": "markdown",
   "metadata": {},
   "source": [
    "# Investigación Corta 2: Aprendizaje supervisado."
   ]
  },
  {
   "cell_type": "markdown",
   "metadata": {},
   "source": [
    "## Importar bibliotecas."
   ]
  },
  {
   "cell_type": "code",
   "execution_count": 219,
   "metadata": {},
   "outputs": [],
   "source": [
    "import numpy as np\n",
    "import pandas as pd"
   ]
  },
  {
   "cell_type": "markdown",
   "metadata": {},
   "source": [
    "## Importar datos"
   ]
  },
  {
   "cell_type": "code",
   "execution_count": 220,
   "metadata": {},
   "outputs": [],
   "source": [
    "data = pd.read_csv('C://Users/ajskr/201905-nyc-bike.csv')"
   ]
  },
  {
   "cell_type": "code",
   "execution_count": 221,
   "metadata": {},
   "outputs": [
    {
     "data": {
      "text/html": [
       "<div>\n",
       "<style scoped>\n",
       "    .dataframe tbody tr th:only-of-type {\n",
       "        vertical-align: middle;\n",
       "    }\n",
       "\n",
       "    .dataframe tbody tr th {\n",
       "        vertical-align: top;\n",
       "    }\n",
       "\n",
       "    .dataframe thead th {\n",
       "        text-align: right;\n",
       "    }\n",
       "</style>\n",
       "<table border=\"1\" class=\"dataframe\">\n",
       "  <thead>\n",
       "    <tr style=\"text-align: right;\">\n",
       "      <th></th>\n",
       "      <th>tripduration</th>\n",
       "      <th>starttime</th>\n",
       "      <th>stoptime</th>\n",
       "      <th>start station id</th>\n",
       "      <th>end station id</th>\n",
       "      <th>same station</th>\n",
       "      <th>bikeid</th>\n",
       "      <th>usertype</th>\n",
       "      <th>birth year</th>\n",
       "      <th>gender</th>\n",
       "    </tr>\n",
       "  </thead>\n",
       "  <tbody>\n",
       "    <tr>\n",
       "      <th>0</th>\n",
       "      <td>539</td>\n",
       "      <td>2019-05-01 05:26:12.2640</td>\n",
       "      <td>2019-05-01 05:35:11.4400</td>\n",
       "      <td>380</td>\n",
       "      <td>459</td>\n",
       "      <td>no</td>\n",
       "      <td>15728</td>\n",
       "      <td>Subscriber</td>\n",
       "      <td>1987</td>\n",
       "      <td>2</td>\n",
       "    </tr>\n",
       "    <tr>\n",
       "      <th>1</th>\n",
       "      <td>297</td>\n",
       "      <td>2019-05-01 07:10:15.2950</td>\n",
       "      <td>2019-05-01 07:15:12.7450</td>\n",
       "      <td>327</td>\n",
       "      <td>2008</td>\n",
       "      <td>no</td>\n",
       "      <td>31325</td>\n",
       "      <td>Subscriber</td>\n",
       "      <td>1972</td>\n",
       "      <td>1</td>\n",
       "    </tr>\n",
       "    <tr>\n",
       "      <th>2</th>\n",
       "      <td>1088</td>\n",
       "      <td>2019-05-01 07:14:23.6490</td>\n",
       "      <td>2019-05-01 07:32:32.2360</td>\n",
       "      <td>350</td>\n",
       "      <td>309</td>\n",
       "      <td>no</td>\n",
       "      <td>28870</td>\n",
       "      <td>Subscriber</td>\n",
       "      <td>1960</td>\n",
       "      <td>2</td>\n",
       "    </tr>\n",
       "    <tr>\n",
       "      <th>3</th>\n",
       "      <td>1384</td>\n",
       "      <td>2019-05-01 07:30:19.9200</td>\n",
       "      <td>2019-05-01 07:53:24.5510</td>\n",
       "      <td>383</td>\n",
       "      <td>519</td>\n",
       "      <td>no</td>\n",
       "      <td>14916</td>\n",
       "      <td>Subscriber</td>\n",
       "      <td>1970</td>\n",
       "      <td>1</td>\n",
       "    </tr>\n",
       "    <tr>\n",
       "      <th>4</th>\n",
       "      <td>303</td>\n",
       "      <td>2019-05-01 08:48:47.5600</td>\n",
       "      <td>2019-05-01 08:53:51.1870</td>\n",
       "      <td>426</td>\n",
       "      <td>377</td>\n",
       "      <td>no</td>\n",
       "      <td>26692</td>\n",
       "      <td>Subscriber</td>\n",
       "      <td>1984</td>\n",
       "      <td>2</td>\n",
       "    </tr>\n",
       "  </tbody>\n",
       "</table>\n",
       "</div>"
      ],
      "text/plain": [
       "   tripduration                 starttime                  stoptime  \\\n",
       "0           539  2019-05-01 05:26:12.2640  2019-05-01 05:35:11.4400   \n",
       "1           297  2019-05-01 07:10:15.2950  2019-05-01 07:15:12.7450   \n",
       "2          1088  2019-05-01 07:14:23.6490  2019-05-01 07:32:32.2360   \n",
       "3          1384  2019-05-01 07:30:19.9200  2019-05-01 07:53:24.5510   \n",
       "4           303  2019-05-01 08:48:47.5600  2019-05-01 08:53:51.1870   \n",
       "\n",
       "   start station id  end station id same station  bikeid    usertype  \\\n",
       "0               380             459           no   15728  Subscriber   \n",
       "1               327            2008           no   31325  Subscriber   \n",
       "2               350             309           no   28870  Subscriber   \n",
       "3               383             519           no   14916  Subscriber   \n",
       "4               426             377           no   26692  Subscriber   \n",
       "\n",
       "   birth year  gender  \n",
       "0        1987       2  \n",
       "1        1972       1  \n",
       "2        1960       2  \n",
       "3        1970       1  \n",
       "4        1984       2  "
      ]
     },
     "execution_count": 221,
     "metadata": {},
     "output_type": "execute_result"
    }
   ],
   "source": [
    "data.head()"
   ]
  },
  {
   "cell_type": "code",
   "execution_count": 222,
   "metadata": {},
   "outputs": [
    {
     "data": {
      "text/plain": [
       "(1025, 10)"
      ]
     },
     "execution_count": 222,
     "metadata": {},
     "output_type": "execute_result"
    }
   ],
   "source": [
    "data.shape"
   ]
  },
  {
   "cell_type": "markdown",
   "metadata": {},
   "source": [
    "## Sustituciones de palabras a números."
   ]
  },
  {
   "cell_type": "code",
   "execution_count": 223,
   "metadata": {},
   "outputs": [],
   "source": [
    "data2 = data"
   ]
  },
  {
   "cell_type": "code",
   "execution_count": 224,
   "metadata": {},
   "outputs": [],
   "source": [
    "data2['same station'] = data2['same station'].replace({'no': 0, 'yes': 1})\n",
    "data2['usertype'] = data2['usertype'].replace({'Customer': 0, 'Subscriber': 1})"
   ]
  },
  {
   "cell_type": "code",
   "execution_count": 225,
   "metadata": {},
   "outputs": [
    {
     "data": {
      "text/html": [
       "<div>\n",
       "<style scoped>\n",
       "    .dataframe tbody tr th:only-of-type {\n",
       "        vertical-align: middle;\n",
       "    }\n",
       "\n",
       "    .dataframe tbody tr th {\n",
       "        vertical-align: top;\n",
       "    }\n",
       "\n",
       "    .dataframe thead th {\n",
       "        text-align: right;\n",
       "    }\n",
       "</style>\n",
       "<table border=\"1\" class=\"dataframe\">\n",
       "  <thead>\n",
       "    <tr style=\"text-align: right;\">\n",
       "      <th></th>\n",
       "      <th>tripduration</th>\n",
       "      <th>starttime</th>\n",
       "      <th>stoptime</th>\n",
       "      <th>start station id</th>\n",
       "      <th>end station id</th>\n",
       "      <th>same station</th>\n",
       "      <th>bikeid</th>\n",
       "      <th>usertype</th>\n",
       "      <th>birth year</th>\n",
       "      <th>gender</th>\n",
       "    </tr>\n",
       "  </thead>\n",
       "  <tbody>\n",
       "    <tr>\n",
       "      <th>0</th>\n",
       "      <td>539</td>\n",
       "      <td>2019-05-01 05:26:12.2640</td>\n",
       "      <td>2019-05-01 05:35:11.4400</td>\n",
       "      <td>380</td>\n",
       "      <td>459</td>\n",
       "      <td>0</td>\n",
       "      <td>15728</td>\n",
       "      <td>1</td>\n",
       "      <td>1987</td>\n",
       "      <td>2</td>\n",
       "    </tr>\n",
       "    <tr>\n",
       "      <th>1</th>\n",
       "      <td>297</td>\n",
       "      <td>2019-05-01 07:10:15.2950</td>\n",
       "      <td>2019-05-01 07:15:12.7450</td>\n",
       "      <td>327</td>\n",
       "      <td>2008</td>\n",
       "      <td>0</td>\n",
       "      <td>31325</td>\n",
       "      <td>1</td>\n",
       "      <td>1972</td>\n",
       "      <td>1</td>\n",
       "    </tr>\n",
       "    <tr>\n",
       "      <th>2</th>\n",
       "      <td>1088</td>\n",
       "      <td>2019-05-01 07:14:23.6490</td>\n",
       "      <td>2019-05-01 07:32:32.2360</td>\n",
       "      <td>350</td>\n",
       "      <td>309</td>\n",
       "      <td>0</td>\n",
       "      <td>28870</td>\n",
       "      <td>1</td>\n",
       "      <td>1960</td>\n",
       "      <td>2</td>\n",
       "    </tr>\n",
       "    <tr>\n",
       "      <th>3</th>\n",
       "      <td>1384</td>\n",
       "      <td>2019-05-01 07:30:19.9200</td>\n",
       "      <td>2019-05-01 07:53:24.5510</td>\n",
       "      <td>383</td>\n",
       "      <td>519</td>\n",
       "      <td>0</td>\n",
       "      <td>14916</td>\n",
       "      <td>1</td>\n",
       "      <td>1970</td>\n",
       "      <td>1</td>\n",
       "    </tr>\n",
       "    <tr>\n",
       "      <th>4</th>\n",
       "      <td>303</td>\n",
       "      <td>2019-05-01 08:48:47.5600</td>\n",
       "      <td>2019-05-01 08:53:51.1870</td>\n",
       "      <td>426</td>\n",
       "      <td>377</td>\n",
       "      <td>0</td>\n",
       "      <td>26692</td>\n",
       "      <td>1</td>\n",
       "      <td>1984</td>\n",
       "      <td>2</td>\n",
       "    </tr>\n",
       "  </tbody>\n",
       "</table>\n",
       "</div>"
      ],
      "text/plain": [
       "   tripduration                 starttime                  stoptime  \\\n",
       "0           539  2019-05-01 05:26:12.2640  2019-05-01 05:35:11.4400   \n",
       "1           297  2019-05-01 07:10:15.2950  2019-05-01 07:15:12.7450   \n",
       "2          1088  2019-05-01 07:14:23.6490  2019-05-01 07:32:32.2360   \n",
       "3          1384  2019-05-01 07:30:19.9200  2019-05-01 07:53:24.5510   \n",
       "4           303  2019-05-01 08:48:47.5600  2019-05-01 08:53:51.1870   \n",
       "\n",
       "   start station id  end station id  same station  bikeid  usertype  \\\n",
       "0               380             459             0   15728         1   \n",
       "1               327            2008             0   31325         1   \n",
       "2               350             309             0   28870         1   \n",
       "3               383             519             0   14916         1   \n",
       "4               426             377             0   26692         1   \n",
       "\n",
       "   birth year  gender  \n",
       "0        1987       2  \n",
       "1        1972       1  \n",
       "2        1960       2  \n",
       "3        1970       1  \n",
       "4        1984       2  "
      ]
     },
     "execution_count": 225,
     "metadata": {},
     "output_type": "execute_result"
    }
   ],
   "source": [
    "data2.head()"
   ]
  },
  {
   "cell_type": "markdown",
   "metadata": {},
   "source": [
    "El género es 0 para indefinido, 1 para masculino y 2 para femenino.\n",
    "Customer o 0 son aquellos que usaron pases de 24 horas o de 3 días.  Subscriber o 1 son aquellos que usaron el pase anual."
   ]
  },
  {
   "cell_type": "code",
   "execution_count": 226,
   "metadata": {},
   "outputs": [
    {
     "data": {
      "text/plain": [
       "(1025, 10)"
      ]
     },
     "execution_count": 226,
     "metadata": {},
     "output_type": "execute_result"
    }
   ],
   "source": [
    "data2.shape"
   ]
  },
  {
   "cell_type": "markdown",
   "metadata": {},
   "source": [
    "## Selección de datos."
   ]
  },
  {
   "cell_type": "code",
   "execution_count": 227,
   "metadata": {},
   "outputs": [],
   "source": [
    "data3 = data2[['same station','bikeid','usertype','birth year','gender']]"
   ]
  },
  {
   "cell_type": "code",
   "execution_count": 228,
   "metadata": {},
   "outputs": [
    {
     "data": {
      "text/plain": [
       "(1025, 5)"
      ]
     },
     "execution_count": 228,
     "metadata": {},
     "output_type": "execute_result"
    }
   ],
   "source": [
    "data3.shape"
   ]
  },
  {
   "cell_type": "code",
   "execution_count": 229,
   "metadata": {},
   "outputs": [],
   "source": [
    "features = data3[['bikeid','usertype','birth year','same station']]"
   ]
  },
  {
   "cell_type": "code",
   "execution_count": 230,
   "metadata": {},
   "outputs": [],
   "source": [
    "labels = data3['gender']"
   ]
  },
  {
   "cell_type": "markdown",
   "metadata": {},
   "source": [
    "## Aplicación de DecisionTree (Método 1)"
   ]
  },
  {
   "cell_type": "markdown",
   "metadata": {},
   "source": [
    "Método basado en decisiones de if/then/else.  max_depth define la cantidad de decisiones del árbol para generalizar los datos."
   ]
  },
  {
   "cell_type": "code",
   "execution_count": 252,
   "metadata": {},
   "outputs": [],
   "source": [
    "from sklearn.model_selection import train_test_split\n",
    "from sklearn.tree import DecisionTreeClassifier\n",
    "from sklearn.metrics import accuracy_score\n",
    "from sklearn.tree import export_graphviz\n",
    "from subprocess import call"
   ]
  },
  {
   "cell_type": "code",
   "execution_count": 253,
   "metadata": {},
   "outputs": [],
   "source": [
    "x_train, x_test, y_train, y_test = train_test_split(features, labels, random_state=10)"
   ]
  },
  {
   "cell_type": "code",
   "execution_count": 254,
   "metadata": {},
   "outputs": [
    {
     "data": {
      "text/plain": [
       "(720, 4)"
      ]
     },
     "execution_count": 254,
     "metadata": {},
     "output_type": "execute_result"
    }
   ],
   "source": [
    "x_train.shape"
   ]
  },
  {
   "cell_type": "code",
   "execution_count": 255,
   "metadata": {},
   "outputs": [
    {
     "data": {
      "text/plain": [
       "(240, 4)"
      ]
     },
     "execution_count": 255,
     "metadata": {},
     "output_type": "execute_result"
    }
   ],
   "source": [
    "x_test.shape"
   ]
  },
  {
   "cell_type": "code",
   "execution_count": 256,
   "metadata": {},
   "outputs": [
    {
     "data": {
      "text/plain": [
       "1025"
      ]
     },
     "execution_count": 256,
     "metadata": {},
     "output_type": "execute_result"
    }
   ],
   "source": [
    "768+257"
   ]
  },
  {
   "cell_type": "code",
   "execution_count": 257,
   "metadata": {},
   "outputs": [
    {
     "data": {
      "text/plain": [
       "0.7375"
      ]
     },
     "execution_count": 257,
     "metadata": {},
     "output_type": "execute_result"
    }
   ],
   "source": [
    "DecisionTreeModel = DecisionTreeClassifier(max_depth = 3)\n",
    "DecisionTreeModel.fit(x_train, y_train)\n",
    "y_predict = DecisionTreeModel.predict(x_test)\n",
    "accuracy_score(y_test, y_predict)"
   ]
  },
  {
   "cell_type": "code",
   "execution_count": 258,
   "metadata": {},
   "outputs": [
    {
     "data": {
      "text/plain": [
       "0.7166666666666667"
      ]
     },
     "execution_count": 258,
     "metadata": {},
     "output_type": "execute_result"
    }
   ],
   "source": [
    "DecisionTreeModel = DecisionTreeClassifier(max_depth = 4)\n",
    "DecisionTreeModel.fit(x_train, y_train)\n",
    "y_predict = DecisionTreeModel.predict(x_test)\n",
    "accuracy_score(y_test, y_predict)"
   ]
  },
  {
   "cell_type": "code",
   "execution_count": 259,
   "metadata": {},
   "outputs": [
    {
     "data": {
      "text/plain": [
       "0.7125"
      ]
     },
     "execution_count": 259,
     "metadata": {},
     "output_type": "execute_result"
    }
   ],
   "source": [
    "DecisionTreeModel = DecisionTreeClassifier(max_depth = 6)\n",
    "DecisionTreeModel.fit(x_train, y_train)\n",
    "y_predict = DecisionTreeModel.predict(x_test)\n",
    "accuracy_score(y_test, y_predict)"
   ]
  },
  {
   "cell_type": "code",
   "execution_count": 260,
   "metadata": {},
   "outputs": [
    {
     "data": {
      "text/plain": [
       "0.7416666666666667"
      ]
     },
     "execution_count": 260,
     "metadata": {},
     "output_type": "execute_result"
    }
   ],
   "source": [
    "DecisionTreeModel = DecisionTreeClassifier(max_depth = 2)\n",
    "DecisionTreeModel.fit(x_train, y_train)\n",
    "y_predict = DecisionTreeModel.predict(x_test)\n",
    "accuracy_score(y_test, y_predict)"
   ]
  },
  {
   "cell_type": "code",
   "execution_count": 261,
   "metadata": {},
   "outputs": [
    {
     "data": {
      "text/plain": [
       "0.7416666666666667"
      ]
     },
     "execution_count": 261,
     "metadata": {},
     "output_type": "execute_result"
    }
   ],
   "source": [
    "DecisionTreeModel = DecisionTreeClassifier(max_depth = 1)\n",
    "DecisionTreeModel.fit(x_train, y_train)\n",
    "y_predict = DecisionTreeModel.predict(x_test)\n",
    "accuracy_score(y_test, y_predict)"
   ]
  },
  {
   "cell_type": "code",
   "execution_count": 262,
   "metadata": {},
   "outputs": [
    {
     "data": {
      "text/plain": [
       "0.7375"
      ]
     },
     "execution_count": 262,
     "metadata": {},
     "output_type": "execute_result"
    }
   ],
   "source": [
    "DecisionTreeModel = DecisionTreeClassifier(max_depth = 3)\n",
    "DecisionTreeModel.fit(x_train, y_train)\n",
    "y_predict = DecisionTreeModel.predict(x_test)\n",
    "accuracy_score(y_test, y_predict)"
   ]
  },
  {
   "cell_type": "markdown",
   "metadata": {},
   "source": [
    "Los resultados son bajos.  Se probará eliminando el género indefinido que es 0."
   ]
  },
  {
   "cell_type": "markdown",
   "metadata": {},
   "source": [
    "### Simplificación de datos eliminando datos con género indefinido (0)."
   ]
  },
  {
   "cell_type": "code",
   "execution_count": 263,
   "metadata": {},
   "outputs": [],
   "source": [
    "data4 = data3.loc[data3['gender'] != 0] "
   ]
  },
  {
   "cell_type": "code",
   "execution_count": 264,
   "metadata": {},
   "outputs": [
    {
     "data": {
      "text/plain": [
       "(960, 5)"
      ]
     },
     "execution_count": 264,
     "metadata": {},
     "output_type": "execute_result"
    }
   ],
   "source": [
    "data4.shape"
   ]
  },
  {
   "cell_type": "code",
   "execution_count": 265,
   "metadata": {},
   "outputs": [
    {
     "data": {
      "text/plain": [
       "1    711\n",
       "2    249\n",
       "Name: gender, dtype: int64"
      ]
     },
     "execution_count": 265,
     "metadata": {},
     "output_type": "execute_result"
    }
   ],
   "source": [
    "conteo = data4['gender']\n",
    "conteo.value_counts()"
   ]
  },
  {
   "cell_type": "code",
   "execution_count": 266,
   "metadata": {},
   "outputs": [],
   "source": [
    "features = data4[['bikeid','usertype','birth year','same station']]\n",
    "labels = data4['gender']\n",
    "x_train, x_test, y_train, y_test = train_test_split(features, labels, random_state=10)"
   ]
  },
  {
   "cell_type": "code",
   "execution_count": 267,
   "metadata": {},
   "outputs": [
    {
     "data": {
      "text/plain": [
       "(720, 4)"
      ]
     },
     "execution_count": 267,
     "metadata": {},
     "output_type": "execute_result"
    }
   ],
   "source": [
    "x_train.shape"
   ]
  },
  {
   "cell_type": "code",
   "execution_count": 268,
   "metadata": {},
   "outputs": [
    {
     "data": {
      "text/plain": [
       "(240, 4)"
      ]
     },
     "execution_count": 268,
     "metadata": {},
     "output_type": "execute_result"
    }
   ],
   "source": [
    "x_test.shape"
   ]
  },
  {
   "cell_type": "code",
   "execution_count": 269,
   "metadata": {},
   "outputs": [
    {
     "data": {
      "text/plain": [
       "960"
      ]
     },
     "execution_count": 269,
     "metadata": {},
     "output_type": "execute_result"
    }
   ],
   "source": [
    "720+240"
   ]
  },
  {
   "cell_type": "code",
   "execution_count": 270,
   "metadata": {},
   "outputs": [
    {
     "data": {
      "text/plain": [
       "0.7375"
      ]
     },
     "execution_count": 270,
     "metadata": {},
     "output_type": "execute_result"
    }
   ],
   "source": [
    "DecisionTreeModel = DecisionTreeClassifier(max_depth = 3)\n",
    "DecisionTreeModel.fit(x_train, y_train)\n",
    "y_predict = DecisionTreeModel.predict(x_test)\n",
    "accuracy_score(y_test, y_predict)"
   ]
  },
  {
   "cell_type": "markdown",
   "metadata": {},
   "source": [
    "Mejora el resultado, por lo que se usará data4."
   ]
  },
  {
   "cell_type": "code",
   "execution_count": 271,
   "metadata": {},
   "outputs": [
    {
     "data": {
      "text/plain": [
       "0.7416666666666667"
      ]
     },
     "execution_count": 271,
     "metadata": {},
     "output_type": "execute_result"
    }
   ],
   "source": [
    "DecisionTreeModel = DecisionTreeClassifier(max_depth = 1)\n",
    "DecisionTreeModel.fit(x_train, y_train)\n",
    "y_predict = DecisionTreeModel.predict(x_test)\n",
    "accuracy_score(y_test, y_predict)"
   ]
  },
  {
   "cell_type": "code",
   "execution_count": 272,
   "metadata": {},
   "outputs": [
    {
     "data": {
      "text/plain": [
       "0.7416666666666667"
      ]
     },
     "execution_count": 272,
     "metadata": {},
     "output_type": "execute_result"
    }
   ],
   "source": [
    "DecisionTreeModel = DecisionTreeClassifier(max_depth = 2)\n",
    "DecisionTreeModel.fit(x_train, y_train)\n",
    "y_predict = DecisionTreeModel.predict(x_test)\n",
    "accuracy_score(y_test, y_predict)"
   ]
  },
  {
   "cell_type": "code",
   "execution_count": 273,
   "metadata": {},
   "outputs": [
    {
     "data": {
      "text/plain": [
       "0.7166666666666667"
      ]
     },
     "execution_count": 273,
     "metadata": {},
     "output_type": "execute_result"
    }
   ],
   "source": [
    "DecisionTreeModel = DecisionTreeClassifier(max_depth = 4)\n",
    "DecisionTreeModel.fit(x_train, y_train)\n",
    "y_predict = DecisionTreeModel.predict(x_test)\n",
    "accuracy_score(y_test, y_predict)"
   ]
  },
  {
   "cell_type": "code",
   "execution_count": 274,
   "metadata": {},
   "outputs": [
    {
     "data": {
      "text/plain": [
       "0.7166666666666667"
      ]
     },
     "execution_count": 274,
     "metadata": {},
     "output_type": "execute_result"
    }
   ],
   "source": [
    "DecisionTreeModel = DecisionTreeClassifier(max_depth = 5)\n",
    "DecisionTreeModel.fit(x_train, y_train)\n",
    "y_predict = DecisionTreeModel.predict(x_test)\n",
    "accuracy_score(y_test, y_predict)"
   ]
  },
  {
   "cell_type": "markdown",
   "metadata": {},
   "source": [
    "Se guardan resultados para tabla comparativa, donde el valor óptimo del max_depth es 2, puesto que solo hay 4 features por lo que solo se ocupan dos niveles de decisión."
   ]
  },
  {
   "cell_type": "code",
   "execution_count": 275,
   "metadata": {},
   "outputs": [],
   "source": [
    "DecisionTreeModel = DecisionTreeClassifier(max_depth = 2)\n",
    "DecisionTreeModel.fit(x_train, y_train)\n",
    "y_predict = DecisionTreeModel.predict(x_test)\n",
    "m1 = accuracy_score(y_test, y_predict)"
   ]
  },
  {
   "cell_type": "markdown",
   "metadata": {},
   "source": [
    "## Aplicación de RandomForest (Método 2) (Con Ensemble)"
   ]
  },
  {
   "cell_type": "markdown",
   "metadata": {},
   "source": [
    "Ensemble consiste en agrupar aleatoriamente los datos para generalizar cada grupo y posteriormente generalizar los resultados de los grupos.  Busca reducir el overfitting.\n",
    "El caso de RandomForest consiste en aplicar DecisionTree a cada grupo para posteriormente generalizar los resultados obtenidos de cada DecisionTree."
   ]
  },
  {
   "cell_type": "code",
   "execution_count": 277,
   "metadata": {},
   "outputs": [],
   "source": [
    "from sklearn.ensemble import RandomForestClassifier"
   ]
  },
  {
   "cell_type": "markdown",
   "metadata": {},
   "source": [
    "Variando min_sample_leaf"
   ]
  },
  {
   "cell_type": "code",
   "execution_count": 278,
   "metadata": {},
   "outputs": [
    {
     "data": {
      "text/plain": [
       "0.7125"
      ]
     },
     "execution_count": 278,
     "metadata": {},
     "output_type": "execute_result"
    }
   ],
   "source": [
    "RandomForestModel = RandomForestClassifier(min_samples_leaf=3,min_samples_split=20,n_estimators=500,max_depth=None,random_state=10)\n",
    "RandomForestModel.fit(x_train, y_train)\n",
    "y_predict = RandomForestModel.predict(x_test)\n",
    "accuracy_score(y_test, y_predict)"
   ]
  },
  {
   "cell_type": "code",
   "execution_count": 279,
   "metadata": {},
   "outputs": [
    {
     "data": {
      "text/plain": [
       "0.7416666666666667"
      ]
     },
     "execution_count": 279,
     "metadata": {},
     "output_type": "execute_result"
    }
   ],
   "source": [
    "RandomForestModel = RandomForestClassifier(min_samples_leaf=10,min_samples_split=20,n_estimators=500,max_depth=None,random_state=10)\n",
    "RandomForestModel.fit(x_train, y_train)\n",
    "y_predict = RandomForestModel.predict(x_test)\n",
    "accuracy_score(y_test, y_predict)"
   ]
  },
  {
   "cell_type": "code",
   "execution_count": 280,
   "metadata": {},
   "outputs": [
    {
     "data": {
      "text/plain": [
       "0.7416666666666667"
      ]
     },
     "execution_count": 280,
     "metadata": {},
     "output_type": "execute_result"
    }
   ],
   "source": [
    "RandomForestModel = RandomForestClassifier(min_samples_leaf=20,min_samples_split=20,n_estimators=500,max_depth=None,random_state=10)\n",
    "RandomForestModel.fit(x_train, y_train)\n",
    "y_predict = RandomForestModel.predict(x_test)\n",
    "accuracy_score(y_test, y_predict)"
   ]
  },
  {
   "cell_type": "code",
   "execution_count": 281,
   "metadata": {},
   "outputs": [
    {
     "data": {
      "text/plain": [
       "0.7416666666666667"
      ]
     },
     "execution_count": 281,
     "metadata": {},
     "output_type": "execute_result"
    }
   ],
   "source": [
    "RandomForestModel = RandomForestClassifier(min_samples_leaf=15,min_samples_split=20,n_estimators=500,max_depth=None,random_state=10)\n",
    "RandomForestModel.fit(x_train, y_train)\n",
    "y_predict = RandomForestModel.predict(x_test)\n",
    "accuracy_score(y_test, y_predict)"
   ]
  },
  {
   "cell_type": "code",
   "execution_count": 282,
   "metadata": {},
   "outputs": [
    {
     "data": {
      "text/plain": [
       "0.725"
      ]
     },
     "execution_count": 282,
     "metadata": {},
     "output_type": "execute_result"
    }
   ],
   "source": [
    "RandomForestModel = RandomForestClassifier(min_samples_leaf=5,min_samples_split=20,n_estimators=500,max_depth=None,random_state=10)\n",
    "RandomForestModel.fit(x_train, y_train)\n",
    "y_predict = RandomForestModel.predict(x_test)\n",
    "accuracy_score(y_test, y_predict)"
   ]
  },
  {
   "cell_type": "code",
   "execution_count": 283,
   "metadata": {},
   "outputs": [
    {
     "data": {
      "text/plain": [
       "0.7375"
      ]
     },
     "execution_count": 283,
     "metadata": {},
     "output_type": "execute_result"
    }
   ],
   "source": [
    "RandomForestModel = RandomForestClassifier(min_samples_leaf=7,min_samples_split=20,n_estimators=500,max_depth=None,random_state=10)\n",
    "RandomForestModel.fit(x_train, y_train)\n",
    "y_predict = RandomForestModel.predict(x_test)\n",
    "accuracy_score(y_test, y_predict)"
   ]
  },
  {
   "cell_type": "code",
   "execution_count": 284,
   "metadata": {},
   "outputs": [
    {
     "data": {
      "text/plain": [
       "0.7416666666666667"
      ]
     },
     "execution_count": 284,
     "metadata": {},
     "output_type": "execute_result"
    }
   ],
   "source": [
    "RandomForestModel = RandomForestClassifier(min_samples_leaf=8,min_samples_split=20,n_estimators=500,max_depth=None,random_state=10)\n",
    "RandomForestModel.fit(x_train, y_train)\n",
    "y_predict = RandomForestModel.predict(x_test)\n",
    "accuracy_score(y_test, y_predict)"
   ]
  },
  {
   "cell_type": "markdown",
   "metadata": {},
   "source": [
    "Se optimiza min_samples_leaf a 8.\n",
    "Se prueban min_samples_split."
   ]
  },
  {
   "cell_type": "code",
   "execution_count": 285,
   "metadata": {},
   "outputs": [
    {
     "data": {
      "text/plain": [
       "0.7416666666666667"
      ]
     },
     "execution_count": 285,
     "metadata": {},
     "output_type": "execute_result"
    }
   ],
   "source": [
    "RandomForestModel = RandomForestClassifier(min_samples_leaf=8,min_samples_split=50,n_estimators=500,max_depth=None,random_state=10)\n",
    "RandomForestModel.fit(x_train, y_train)\n",
    "y_predict = RandomForestModel.predict(x_test)\n",
    "accuracy_score(y_test, y_predict)"
   ]
  },
  {
   "cell_type": "code",
   "execution_count": 286,
   "metadata": {},
   "outputs": [
    {
     "data": {
      "text/plain": [
       "0.7416666666666667"
      ]
     },
     "execution_count": 286,
     "metadata": {},
     "output_type": "execute_result"
    }
   ],
   "source": [
    "RandomForestModel = RandomForestClassifier(min_samples_leaf=8,min_samples_split=100,n_estimators=500,max_depth=None,random_state=10)\n",
    "RandomForestModel.fit(x_train, y_train)\n",
    "y_predict = RandomForestModel.predict(x_test)\n",
    "accuracy_score(y_test, y_predict)"
   ]
  },
  {
   "cell_type": "code",
   "execution_count": 287,
   "metadata": {},
   "outputs": [
    {
     "data": {
      "text/plain": [
       "0.7291666666666666"
      ]
     },
     "execution_count": 287,
     "metadata": {},
     "output_type": "execute_result"
    }
   ],
   "source": [
    "RandomForestModel = RandomForestClassifier(min_samples_leaf=8,min_samples_split=5,n_estimators=500,max_depth=None,random_state=10)\n",
    "RandomForestModel.fit(x_train, y_train)\n",
    "y_predict = RandomForestModel.predict(x_test)\n",
    "accuracy_score(y_test, y_predict)"
   ]
  },
  {
   "cell_type": "code",
   "execution_count": 288,
   "metadata": {},
   "outputs": [
    {
     "data": {
      "text/plain": [
       "0.7416666666666667"
      ]
     },
     "execution_count": 288,
     "metadata": {},
     "output_type": "execute_result"
    }
   ],
   "source": [
    "RandomForestModel = RandomForestClassifier(min_samples_leaf=8,min_samples_split=18,n_estimators=500,max_depth=None,random_state=10)\n",
    "RandomForestModel.fit(x_train, y_train)\n",
    "y_predict = RandomForestModel.predict(x_test)\n",
    "accuracy_score(y_test, y_predict)"
   ]
  },
  {
   "cell_type": "code",
   "execution_count": 289,
   "metadata": {},
   "outputs": [
    {
     "data": {
      "text/plain": [
       "0.7333333333333333"
      ]
     },
     "execution_count": 289,
     "metadata": {},
     "output_type": "execute_result"
    }
   ],
   "source": [
    "RandomForestModel = RandomForestClassifier(min_samples_leaf=8,min_samples_split=17,n_estimators=500,max_depth=None,random_state=10)\n",
    "RandomForestModel.fit(x_train, y_train)\n",
    "y_predict = RandomForestModel.predict(x_test)\n",
    "accuracy_score(y_test, y_predict)"
   ]
  },
  {
   "cell_type": "markdown",
   "metadata": {},
   "source": [
    "Se mantiene el valor de 20 para min_samples_split.\n",
    "Se prueban valores de estimators."
   ]
  },
  {
   "cell_type": "code",
   "execution_count": 290,
   "metadata": {},
   "outputs": [
    {
     "data": {
      "text/plain": [
       "0.7416666666666667"
      ]
     },
     "execution_count": 290,
     "metadata": {},
     "output_type": "execute_result"
    }
   ],
   "source": [
    "RandomForestModel = RandomForestClassifier(min_samples_leaf=8,min_samples_split=20,n_estimators=1000,max_depth=None,random_state=10)\n",
    "RandomForestModel.fit(x_train, y_train)\n",
    "y_predict = RandomForestModel.predict(x_test)\n",
    "accuracy_score(y_test, y_predict)"
   ]
  },
  {
   "cell_type": "code",
   "execution_count": 291,
   "metadata": {},
   "outputs": [
    {
     "data": {
      "text/plain": [
       "0.7375"
      ]
     },
     "execution_count": 291,
     "metadata": {},
     "output_type": "execute_result"
    }
   ],
   "source": [
    "RandomForestModel = RandomForestClassifier(min_samples_leaf=8,min_samples_split=20,n_estimators=100,max_depth=None,random_state=10)\n",
    "RandomForestModel.fit(x_train, y_train)\n",
    "y_predict = RandomForestModel.predict(x_test)\n",
    "accuracy_score(y_test, y_predict)"
   ]
  },
  {
   "cell_type": "code",
   "execution_count": 292,
   "metadata": {},
   "outputs": [
    {
     "data": {
      "text/plain": [
       "0.7416666666666667"
      ]
     },
     "execution_count": 292,
     "metadata": {},
     "output_type": "execute_result"
    }
   ],
   "source": [
    "RandomForestModel = RandomForestClassifier(min_samples_leaf=8,min_samples_split=20,n_estimators=5000,max_depth=None,random_state=10)\n",
    "RandomForestModel.fit(x_train, y_train)\n",
    "y_predict = RandomForestModel.predict(x_test)\n",
    "accuracy_score(y_test, y_predict)"
   ]
  },
  {
   "cell_type": "markdown",
   "metadata": {},
   "source": [
    "Se observa que los valores óptimos son 8, 20 y 1000 respectivamente.  A mayor cantidad de grupos (estimadores) mayor sería el resultado; no obstante, puede llegar a un valor tope donde el resultado no mejora a pesar de tener más grupos."
   ]
  },
  {
   "cell_type": "code",
   "execution_count": 295,
   "metadata": {},
   "outputs": [],
   "source": [
    "RandomForestModel = RandomForestClassifier(min_samples_leaf=8,min_samples_split=20,n_estimators=1000,max_depth=None,random_state=10)\n",
    "RandomForestModel.fit(x_train, y_train)\n",
    "y_predict = RandomForestModel.predict(x_test)\n",
    "m2 = accuracy_score(y_test, y_predict)"
   ]
  },
  {
   "cell_type": "markdown",
   "metadata": {},
   "source": [
    "## Aplicación de naive Bayes (Método 3)"
   ]
  },
  {
   "cell_type": "markdown",
   "metadata": {},
   "source": [
    "Es un método que supone que existe dependencia entre los atributos del conjunto de datos.  Debido al tipo de datos del conjunto, se utiliza el MultinomialNB.\n",
    "El valor de alpha afecta la suavidad de la curva para la generalización."
   ]
  },
  {
   "cell_type": "code",
   "execution_count": 298,
   "metadata": {},
   "outputs": [],
   "source": [
    "from sklearn.naive_bayes import MultinomialNB"
   ]
  },
  {
   "cell_type": "code",
   "execution_count": 299,
   "metadata": {},
   "outputs": [
    {
     "data": {
      "text/plain": [
       "0.5791666666666667"
      ]
     },
     "execution_count": 299,
     "metadata": {},
     "output_type": "execute_result"
    }
   ],
   "source": [
    "dMNB = MultinomialNB(alpha=1)\n",
    "dMNB.fit(x_train, y_train)\n",
    "y_predict = dMNB.predict(x_test)\n",
    "accuracy_score(y_test, y_predict)"
   ]
  },
  {
   "cell_type": "code",
   "execution_count": 300,
   "metadata": {},
   "outputs": [
    {
     "data": {
      "text/plain": [
       "0.5791666666666667"
      ]
     },
     "execution_count": 300,
     "metadata": {},
     "output_type": "execute_result"
    }
   ],
   "source": [
    "dMNB = MultinomialNB(alpha=0.5)\n",
    "dMNB.fit(x_train, y_train)\n",
    "y_predict = dMNB.predict(x_test)\n",
    "accuracy_score(y_test, y_predict)"
   ]
  },
  {
   "cell_type": "code",
   "execution_count": 301,
   "metadata": {},
   "outputs": [
    {
     "data": {
      "text/plain": [
       "0.5791666666666667"
      ]
     },
     "execution_count": 301,
     "metadata": {},
     "output_type": "execute_result"
    }
   ],
   "source": [
    "dMNB = MultinomialNB(alpha=2)\n",
    "dMNB.fit(x_train, y_train)\n",
    "y_predict = dMNB.predict(x_test)\n",
    "accuracy_score(y_test, y_predict)"
   ]
  },
  {
   "cell_type": "code",
   "execution_count": 305,
   "metadata": {},
   "outputs": [
    {
     "data": {
      "text/plain": [
       "0.5791666666666667"
      ]
     },
     "execution_count": 305,
     "metadata": {},
     "output_type": "execute_result"
    }
   ],
   "source": [
    "dMNB = MultinomialNB(alpha=10)\n",
    "dMNB.fit(x_train, y_train)\n",
    "y_predict = dMNB.predict(x_test)\n",
    "accuracy_score(y_test, y_predict)"
   ]
  },
  {
   "cell_type": "code",
   "execution_count": 306,
   "metadata": {},
   "outputs": [
    {
     "data": {
      "text/plain": [
       "0.5833333333333334"
      ]
     },
     "execution_count": 306,
     "metadata": {},
     "output_type": "execute_result"
    }
   ],
   "source": [
    "dMNB = MultinomialNB(alpha=100)\n",
    "dMNB.fit(x_train, y_train)\n",
    "y_predict = dMNB.predict(x_test)\n",
    "accuracy_score(y_test, y_predict)"
   ]
  },
  {
   "cell_type": "code",
   "execution_count": 307,
   "metadata": {},
   "outputs": [
    {
     "data": {
      "text/plain": [
       "0.6791666666666667"
      ]
     },
     "execution_count": 307,
     "metadata": {},
     "output_type": "execute_result"
    }
   ],
   "source": [
    "dMNB = MultinomialNB(alpha=5000)\n",
    "dMNB.fit(x_train, y_train)\n",
    "y_predict = dMNB.predict(x_test)\n",
    "accuracy_score(y_test, y_predict)"
   ]
  },
  {
   "cell_type": "code",
   "execution_count": 308,
   "metadata": {},
   "outputs": [
    {
     "data": {
      "text/plain": [
       "0.7416666666666667"
      ]
     },
     "execution_count": 308,
     "metadata": {},
     "output_type": "execute_result"
    }
   ],
   "source": [
    "dMNB = MultinomialNB(alpha=100000)\n",
    "dMNB.fit(x_train, y_train)\n",
    "y_predict = dMNB.predict(x_test)\n",
    "accuracy_score(y_test, y_predict)"
   ]
  },
  {
   "cell_type": "code",
   "execution_count": 309,
   "metadata": {},
   "outputs": [
    {
     "name": "stderr",
     "output_type": "stream",
     "text": [
      "C:\\Users\\ajskr\\Miniconda3\\envs\\Inv-Corta-1\\lib\\site-packages\\sklearn\\naive_bayes.py:485: UserWarning: alpha too small will result in numeric errors, setting alpha = 1.0e-10\n",
      "  'setting alpha = %.1e' % _ALPHA_MIN)\n"
     ]
    },
    {
     "data": {
      "text/plain": [
       "0.5791666666666667"
      ]
     },
     "execution_count": 309,
     "metadata": {},
     "output_type": "execute_result"
    }
   ],
   "source": [
    "dMNB = MultinomialNB(alpha=0)\n",
    "dMNB.fit(x_train, y_train)\n",
    "y_predict = dMNB.predict(x_test)\n",
    "accuracy_score(y_test, y_predict)"
   ]
  },
  {
   "cell_type": "code",
   "execution_count": 310,
   "metadata": {},
   "outputs": [
    {
     "data": {
      "text/plain": [
       "0.7416666666666667"
      ]
     },
     "execution_count": 310,
     "metadata": {},
     "output_type": "execute_result"
    }
   ],
   "source": [
    "dMNB = MultinomialNB(alpha=500000)\n",
    "dMNB.fit(x_train, y_train)\n",
    "y_predict = dMNB.predict(x_test)\n",
    "accuracy_score(y_test, y_predict)"
   ]
  },
  {
   "cell_type": "code",
   "execution_count": 311,
   "metadata": {},
   "outputs": [
    {
     "data": {
      "text/plain": [
       "0.7416666666666667"
      ]
     },
     "execution_count": 311,
     "metadata": {},
     "output_type": "execute_result"
    }
   ],
   "source": [
    "dMNB = MultinomialNB(alpha=1000000)\n",
    "dMNB.fit(x_train, y_train)\n",
    "y_predict = dMNB.predict(x_test)\n",
    "accuracy_score(y_test, y_predict)"
   ]
  },
  {
   "cell_type": "markdown",
   "metadata": {},
   "source": [
    "Se encuentra que el valor óptimo de alpha es 100000"
   ]
  },
  {
   "cell_type": "code",
   "execution_count": 312,
   "metadata": {},
   "outputs": [],
   "source": [
    "dMNB = MultinomialNB(alpha=100000)\n",
    "dMNB.fit(x_train, y_train)\n",
    "y_predict = dMNB.predict(x_test)\n",
    "m3 = accuracy_score(y_test, y_predict)"
   ]
  },
  {
   "cell_type": "markdown",
   "metadata": {},
   "source": [
    "## Aplicación de k Nearest Neighbors (Método 4)"
   ]
  },
  {
   "cell_type": "markdown",
   "metadata": {},
   "source": [
    "Método en el cual se clasifica cada dato por mayoría de los k datos vecinos más cercanos.  k es el parámetro del algoritmo y es representado por n_neighbors."
   ]
  },
  {
   "cell_type": "code",
   "execution_count": 313,
   "metadata": {},
   "outputs": [],
   "source": [
    "from sklearn.neighbors import KNeighborsClassifier"
   ]
  },
  {
   "cell_type": "code",
   "execution_count": 314,
   "metadata": {},
   "outputs": [
    {
     "data": {
      "text/plain": [
       "0.6541666666666667"
      ]
     },
     "execution_count": 314,
     "metadata": {},
     "output_type": "execute_result"
    }
   ],
   "source": [
    "dkNN = KNeighborsClassifier(n_neighbors=3)\n",
    "dkNN.fit(x_train, y_train)\n",
    "y_predict = dkNN.predict(x_test)\n",
    "accuracy_score(y_test, y_predict)"
   ]
  },
  {
   "cell_type": "code",
   "execution_count": 315,
   "metadata": {},
   "outputs": [
    {
     "data": {
      "text/plain": [
       "0.6916666666666667"
      ]
     },
     "execution_count": 315,
     "metadata": {},
     "output_type": "execute_result"
    }
   ],
   "source": [
    "dkNN = KNeighborsClassifier(n_neighbors=5)\n",
    "dkNN.fit(x_train, y_train)\n",
    "y_predict = dkNN.predict(x_test)\n",
    "accuracy_score(y_test, y_predict)"
   ]
  },
  {
   "cell_type": "code",
   "execution_count": 316,
   "metadata": {},
   "outputs": [
    {
     "data": {
      "text/plain": [
       "0.7333333333333333"
      ]
     },
     "execution_count": 316,
     "metadata": {},
     "output_type": "execute_result"
    }
   ],
   "source": [
    "dkNN = KNeighborsClassifier(n_neighbors=10)\n",
    "dkNN.fit(x_train, y_train)\n",
    "y_predict = dkNN.predict(x_test)\n",
    "accuracy_score(y_test, y_predict)"
   ]
  },
  {
   "cell_type": "code",
   "execution_count": 317,
   "metadata": {},
   "outputs": [
    {
     "data": {
      "text/plain": [
       "0.7416666666666667"
      ]
     },
     "execution_count": 317,
     "metadata": {},
     "output_type": "execute_result"
    }
   ],
   "source": [
    "dkNN = KNeighborsClassifier(n_neighbors=20)\n",
    "dkNN.fit(x_train, y_train)\n",
    "y_predict = dkNN.predict(x_test)\n",
    "accuracy_score(y_test, y_predict)"
   ]
  },
  {
   "cell_type": "code",
   "execution_count": 318,
   "metadata": {},
   "outputs": [
    {
     "data": {
      "text/plain": [
       "0.7416666666666667"
      ]
     },
     "execution_count": 318,
     "metadata": {},
     "output_type": "execute_result"
    }
   ],
   "source": [
    "dkNN = KNeighborsClassifier(n_neighbors=100)\n",
    "dkNN.fit(x_train, y_train)\n",
    "y_predict = dkNN.predict(x_test)\n",
    "accuracy_score(y_test, y_predict)"
   ]
  },
  {
   "cell_type": "code",
   "execution_count": 319,
   "metadata": {},
   "outputs": [
    {
     "data": {
      "text/plain": [
       "0.7416666666666667"
      ]
     },
     "execution_count": 319,
     "metadata": {},
     "output_type": "execute_result"
    }
   ],
   "source": [
    "dkNN = KNeighborsClassifier(n_neighbors=50)\n",
    "dkNN.fit(x_train, y_train)\n",
    "y_predict = dkNN.predict(x_test)\n",
    "accuracy_score(y_test, y_predict)"
   ]
  },
  {
   "cell_type": "code",
   "execution_count": 320,
   "metadata": {},
   "outputs": [
    {
     "data": {
      "text/plain": [
       "0.7416666666666667"
      ]
     },
     "execution_count": 320,
     "metadata": {},
     "output_type": "execute_result"
    }
   ],
   "source": [
    "dkNN = KNeighborsClassifier(n_neighbors=35)\n",
    "dkNN.fit(x_train, y_train)\n",
    "y_predict = dkNN.predict(x_test)\n",
    "accuracy_score(y_test, y_predict)"
   ]
  },
  {
   "cell_type": "code",
   "execution_count": 321,
   "metadata": {},
   "outputs": [
    {
     "data": {
      "text/plain": [
       "0.7375"
      ]
     },
     "execution_count": 321,
     "metadata": {},
     "output_type": "execute_result"
    }
   ],
   "source": [
    "dkNN = KNeighborsClassifier(n_neighbors=15)\n",
    "dkNN.fit(x_train, y_train)\n",
    "y_predict = dkNN.predict(x_test)\n",
    "accuracy_score(y_test, y_predict)"
   ]
  },
  {
   "cell_type": "markdown",
   "metadata": {},
   "source": [
    "Se encuentra que el valor óptimo de k es 20."
   ]
  },
  {
   "cell_type": "code",
   "execution_count": 322,
   "metadata": {},
   "outputs": [],
   "source": [
    "dkNN = KNeighborsClassifier(n_neighbors=20)\n",
    "dkNN.fit(x_train, y_train)\n",
    "y_predict = dkNN.predict(x_test)\n",
    "m4 = accuracy_score(y_test, y_predict)"
   ]
  },
  {
   "cell_type": "markdown",
   "metadata": {},
   "source": [
    "## Aplicación de SGDClassifier (Método 5)"
   ]
  },
  {
   "cell_type": "markdown",
   "metadata": {},
   "source": [
    "Método que utiliza modelos lineales regularizados con aprendizaje de gradiente estocástico.  Tiene varios parámetros por lo que la optimización es un proceso largo."
   ]
  },
  {
   "cell_type": "markdown",
   "metadata": {},
   "source": [
    "Se busca optimizar el parámetro alpha."
   ]
  },
  {
   "cell_type": "code",
   "execution_count": 360,
   "metadata": {},
   "outputs": [],
   "source": [
    "from sklearn.linear_model import SGDClassifier"
   ]
  },
  {
   "cell_type": "code",
   "execution_count": 369,
   "metadata": {},
   "outputs": [
    {
     "data": {
      "text/plain": [
       "0.7416666666666667"
      ]
     },
     "execution_count": 369,
     "metadata": {},
     "output_type": "execute_result"
    }
   ],
   "source": [
    "dSGDC = SGDClassifier(loss='hinge', penalty='l2', alpha=0.0001, l1_ratio=0.15, epsilon=0.1, eta0=0.0, power_t=0.5, random_state=10)\n",
    "dSGDC.fit(x_train, y_train)\n",
    "y_predict = dSGDC.predict(x_test)\n",
    "accuracy_score(y_test, y_predict)"
   ]
  },
  {
   "cell_type": "code",
   "execution_count": 370,
   "metadata": {},
   "outputs": [
    {
     "data": {
      "text/plain": [
       "0.7416666666666667"
      ]
     },
     "execution_count": 370,
     "metadata": {},
     "output_type": "execute_result"
    }
   ],
   "source": [
    "dSGDC = SGDClassifier(loss='hinge', penalty='l2', alpha=0.5, l1_ratio=0.15, epsilon=0.1, eta0=0.0, power_t=0.5, random_state=10)\n",
    "dSGDC.fit(x_train, y_train)\n",
    "y_predict = dSGDC.predict(x_test)\n",
    "accuracy_score(y_test, y_predict)"
   ]
  },
  {
   "cell_type": "code",
   "execution_count": 371,
   "metadata": {},
   "outputs": [
    {
     "data": {
      "text/plain": [
       "0.6791666666666667"
      ]
     },
     "execution_count": 371,
     "metadata": {},
     "output_type": "execute_result"
    }
   ],
   "source": [
    "dSGDC = SGDClassifier(loss='hinge', penalty='l2', alpha=1, l1_ratio=0.15, epsilon=0.1, eta0=0.0, power_t=0.5, random_state=10)\n",
    "dSGDC.fit(x_train, y_train)\n",
    "y_predict = dSGDC.predict(x_test)\n",
    "accuracy_score(y_test, y_predict)"
   ]
  },
  {
   "cell_type": "code",
   "execution_count": 372,
   "metadata": {},
   "outputs": [
    {
     "data": {
      "text/plain": [
       "0.25833333333333336"
      ]
     },
     "execution_count": 372,
     "metadata": {},
     "output_type": "execute_result"
    }
   ],
   "source": [
    "dSGDC = SGDClassifier(loss='hinge', penalty='l2', alpha=5, l1_ratio=0.15, epsilon=0.1, eta0=0.0, power_t=0.5, random_state=10)\n",
    "dSGDC.fit(x_train, y_train)\n",
    "y_predict = dSGDC.predict(x_test)\n",
    "accuracy_score(y_test, y_predict)"
   ]
  },
  {
   "cell_type": "code",
   "execution_count": 373,
   "metadata": {},
   "outputs": [
    {
     "data": {
      "text/plain": [
       "0.7416666666666667"
      ]
     },
     "execution_count": 373,
     "metadata": {},
     "output_type": "execute_result"
    }
   ],
   "source": [
    "dSGDC = SGDClassifier(loss='hinge', penalty='l2', alpha=100, l1_ratio=0.15, epsilon=0.1, eta0=0.0, power_t=0.5, random_state=10)\n",
    "dSGDC.fit(x_train, y_train)\n",
    "y_predict = dSGDC.predict(x_test)\n",
    "accuracy_score(y_test, y_predict)"
   ]
  },
  {
   "cell_type": "code",
   "execution_count": 374,
   "metadata": {},
   "outputs": [
    {
     "data": {
      "text/plain": [
       "0.7416666666666667"
      ]
     },
     "execution_count": 374,
     "metadata": {},
     "output_type": "execute_result"
    }
   ],
   "source": [
    "dSGDC = SGDClassifier(loss='hinge', penalty='l2', alpha=5000000, l1_ratio=0.15, epsilon=0.1, eta0=0.0, power_t=0.5, random_state=10)\n",
    "dSGDC.fit(x_train, y_train)\n",
    "y_predict = dSGDC.predict(x_test)\n",
    "accuracy_score(y_test, y_predict)"
   ]
  },
  {
   "cell_type": "markdown",
   "metadata": {},
   "source": [
    "Se mantiene alpha en 0.0001 y se prueban valores de epsilon."
   ]
  },
  {
   "cell_type": "code",
   "execution_count": 381,
   "metadata": {},
   "outputs": [
    {
     "data": {
      "text/plain": [
       "0.7416666666666667"
      ]
     },
     "execution_count": 381,
     "metadata": {},
     "output_type": "execute_result"
    }
   ],
   "source": [
    "dSGDC = SGDClassifier(loss='hinge', penalty='l2', alpha=0.0001, l1_ratio=0.15, epsilon=0.5, eta0=0.0, power_t=0.5, random_state=10)\n",
    "dSGDC.fit(x_train, y_train)\n",
    "y_predict = dSGDC.predict(x_test)\n",
    "accuracy_score(y_test, y_predict)"
   ]
  },
  {
   "cell_type": "code",
   "execution_count": 382,
   "metadata": {},
   "outputs": [
    {
     "data": {
      "text/plain": [
       "0.7416666666666667"
      ]
     },
     "execution_count": 382,
     "metadata": {},
     "output_type": "execute_result"
    }
   ],
   "source": [
    "dSGDC = SGDClassifier(loss='hinge', penalty='l2', alpha=0.0001, l1_ratio=0.15, epsilon=1, eta0=0.0, power_t=0.5, random_state=10)\n",
    "dSGDC.fit(x_train, y_train)\n",
    "y_predict = dSGDC.predict(x_test)\n",
    "accuracy_score(y_test, y_predict)"
   ]
  },
  {
   "cell_type": "code",
   "execution_count": 383,
   "metadata": {},
   "outputs": [
    {
     "data": {
      "text/plain": [
       "0.7416666666666667"
      ]
     },
     "execution_count": 383,
     "metadata": {},
     "output_type": "execute_result"
    }
   ],
   "source": [
    "dSGDC = SGDClassifier(loss='hinge', penalty='l2', alpha=0.0001, l1_ratio=0.15, epsilon=0.0001, eta0=0.0, power_t=0.5, random_state=10)\n",
    "dSGDC.fit(x_train, y_train)\n",
    "y_predict = dSGDC.predict(x_test)\n",
    "accuracy_score(y_test, y_predict)"
   ]
  },
  {
   "cell_type": "markdown",
   "metadata": {},
   "source": [
    "No hay cambios con epsilon.  Se prueba eta0."
   ]
  },
  {
   "cell_type": "code",
   "execution_count": 385,
   "metadata": {},
   "outputs": [
    {
     "data": {
      "text/plain": [
       "0.7416666666666667"
      ]
     },
     "execution_count": 385,
     "metadata": {},
     "output_type": "execute_result"
    }
   ],
   "source": [
    "dSGDC = SGDClassifier(loss='hinge', penalty='l2', alpha=0.0001, l1_ratio=0.15, epsilon=0.1, eta0=0.1, power_t=0.5, random_state=10)\n",
    "dSGDC.fit(x_train, y_train)\n",
    "y_predict = dSGDC.predict(x_test)\n",
    "accuracy_score(y_test, y_predict)"
   ]
  },
  {
   "cell_type": "code",
   "execution_count": 386,
   "metadata": {},
   "outputs": [
    {
     "data": {
      "text/plain": [
       "0.7416666666666667"
      ]
     },
     "execution_count": 386,
     "metadata": {},
     "output_type": "execute_result"
    }
   ],
   "source": [
    "dSGDC = SGDClassifier(loss='hinge', penalty='l2', alpha=0.0001, l1_ratio=0.15, epsilon=0.1, eta0=0.5, power_t=0.5, random_state=10)\n",
    "dSGDC.fit(x_train, y_train)\n",
    "y_predict = dSGDC.predict(x_test)\n",
    "accuracy_score(y_test, y_predict)"
   ]
  },
  {
   "cell_type": "code",
   "execution_count": 387,
   "metadata": {},
   "outputs": [
    {
     "data": {
      "text/plain": [
       "0.7416666666666667"
      ]
     },
     "execution_count": 387,
     "metadata": {},
     "output_type": "execute_result"
    }
   ],
   "source": [
    "dSGDC = SGDClassifier(loss='hinge', penalty='l2', alpha=0.0001, l1_ratio=0.15, epsilon=0.1, eta0=1, power_t=0.5, random_state=10)\n",
    "dSGDC.fit(x_train, y_train)\n",
    "y_predict = dSGDC.predict(x_test)\n",
    "accuracy_score(y_test, y_predict)"
   ]
  },
  {
   "cell_type": "code",
   "execution_count": 388,
   "metadata": {},
   "outputs": [
    {
     "data": {
      "text/plain": [
       "0.7416666666666667"
      ]
     },
     "execution_count": 388,
     "metadata": {},
     "output_type": "execute_result"
    }
   ],
   "source": [
    "dSGDC = SGDClassifier(loss='hinge', penalty='l2', alpha=0.0001, l1_ratio=0.15, epsilon=0.1, eta0=5, power_t=0.5, random_state=10)\n",
    "dSGDC.fit(x_train, y_train)\n",
    "y_predict = dSGDC.predict(x_test)\n",
    "accuracy_score(y_test, y_predict)"
   ]
  },
  {
   "cell_type": "code",
   "execution_count": 389,
   "metadata": {},
   "outputs": [
    {
     "data": {
      "text/plain": [
       "0.7416666666666667"
      ]
     },
     "execution_count": 389,
     "metadata": {},
     "output_type": "execute_result"
    }
   ],
   "source": [
    "dSGDC = SGDClassifier(loss='hinge', penalty='l2', alpha=0.0001, l1_ratio=0.15, epsilon=0.1, eta0=1000, power_t=0.5, random_state=10)\n",
    "dSGDC.fit(x_train, y_train)\n",
    "y_predict = dSGDC.predict(x_test)\n",
    "accuracy_score(y_test, y_predict)"
   ]
  },
  {
   "cell_type": "markdown",
   "metadata": {},
   "source": [
    "No hay cambios en eta0, por lo que se prueban valores de power_t."
   ]
  },
  {
   "cell_type": "code",
   "execution_count": 391,
   "metadata": {},
   "outputs": [
    {
     "data": {
      "text/plain": [
       "0.7416666666666667"
      ]
     },
     "execution_count": 391,
     "metadata": {},
     "output_type": "execute_result"
    }
   ],
   "source": [
    "dSGDC = SGDClassifier(loss='hinge', penalty='l2', alpha=0.0001, l1_ratio=0.15, epsilon=0.1, eta0=0.0, power_t=1, random_state=10)\n",
    "dSGDC.fit(x_train, y_train)\n",
    "y_predict = dSGDC.predict(x_test)\n",
    "accuracy_score(y_test, y_predict)"
   ]
  },
  {
   "cell_type": "code",
   "execution_count": 392,
   "metadata": {},
   "outputs": [
    {
     "data": {
      "text/plain": [
       "0.7416666666666667"
      ]
     },
     "execution_count": 392,
     "metadata": {},
     "output_type": "execute_result"
    }
   ],
   "source": [
    "dSGDC = SGDClassifier(loss='hinge', penalty='l2', alpha=0.0001, l1_ratio=0.15, epsilon=0.1, eta0=0.0, power_t=0.1, random_state=10)\n",
    "dSGDC.fit(x_train, y_train)\n",
    "y_predict = dSGDC.predict(x_test)\n",
    "accuracy_score(y_test, y_predict)"
   ]
  },
  {
   "cell_type": "code",
   "execution_count": null,
   "metadata": {},
   "outputs": [],
   "source": [
    "No hay cambios en power_t.  Se cambia el método de hinge a log."
   ]
  },
  {
   "cell_type": "code",
   "execution_count": 393,
   "metadata": {},
   "outputs": [
    {
     "data": {
      "text/plain": [
       "0.25833333333333336"
      ]
     },
     "execution_count": 393,
     "metadata": {},
     "output_type": "execute_result"
    }
   ],
   "source": [
    "dSGDC = SGDClassifier(loss='log', penalty='l2', alpha=0.0001, l1_ratio=0.15, epsilon=0.1, eta0=0.0, power_t=0.5, random_state=10)\n",
    "dSGDC.fit(x_train, y_train)\n",
    "y_predict = dSGDC.predict(x_test)\n",
    "accuracy_score(y_test, y_predict)"
   ]
  },
  {
   "cell_type": "code",
   "execution_count": 398,
   "metadata": {},
   "outputs": [
    {
     "data": {
      "text/plain": [
       "0.7416666666666667"
      ]
     },
     "execution_count": 398,
     "metadata": {},
     "output_type": "execute_result"
    }
   ],
   "source": [
    "dSGDC = SGDClassifier(loss='log', penalty='l2', alpha=1, l1_ratio=0.15, epsilon=0.1, eta0=0.0, power_t=0.5, random_state=10)\n",
    "dSGDC.fit(x_train, y_train)\n",
    "y_predict = dSGDC.predict(x_test)\n",
    "accuracy_score(y_test, y_predict)"
   ]
  },
  {
   "cell_type": "code",
   "execution_count": 400,
   "metadata": {},
   "outputs": [
    {
     "data": {
      "text/plain": [
       "0.25833333333333336"
      ]
     },
     "execution_count": 400,
     "metadata": {},
     "output_type": "execute_result"
    }
   ],
   "source": [
    "dSGDC = SGDClassifier(loss='log', penalty='l2', alpha=5, l1_ratio=0.15, epsilon=0.1, eta0=0.0, power_t=0.5, random_state=10)\n",
    "dSGDC.fit(x_train, y_train)\n",
    "y_predict = dSGDC.predict(x_test)\n",
    "accuracy_score(y_test, y_predict)"
   ]
  },
  {
   "cell_type": "markdown",
   "metadata": {},
   "source": [
    "Se cambia el penalty con el mismo método."
   ]
  },
  {
   "cell_type": "code",
   "execution_count": 401,
   "metadata": {},
   "outputs": [
    {
     "data": {
      "text/plain": [
       "0.7416666666666667"
      ]
     },
     "execution_count": 401,
     "metadata": {},
     "output_type": "execute_result"
    }
   ],
   "source": [
    "dSGDC = SGDClassifier(loss='log', penalty='none', alpha=0.0001, l1_ratio=0.15, epsilon=0.1, eta0=0.0, power_t=0.5, random_state=10)\n",
    "dSGDC.fit(x_train, y_train)\n",
    "y_predict = dSGDC.predict(x_test)\n",
    "accuracy_score(y_test, y_predict)"
   ]
  },
  {
   "cell_type": "code",
   "execution_count": 402,
   "metadata": {},
   "outputs": [
    {
     "data": {
      "text/plain": [
       "0.25833333333333336"
      ]
     },
     "execution_count": 402,
     "metadata": {},
     "output_type": "execute_result"
    }
   ],
   "source": [
    "dSGDC = SGDClassifier(loss='hinge', penalty='none', alpha=0.0001, l1_ratio=0.15, epsilon=0.1, eta0=0.0, power_t=0.5, random_state=10)\n",
    "dSGDC.fit(x_train, y_train)\n",
    "y_predict = dSGDC.predict(x_test)\n",
    "accuracy_score(y_test, y_predict)"
   ]
  },
  {
   "cell_type": "code",
   "execution_count": 403,
   "metadata": {},
   "outputs": [
    {
     "data": {
      "text/plain": [
       "0.7416666666666667"
      ]
     },
     "execution_count": 403,
     "metadata": {},
     "output_type": "execute_result"
    }
   ],
   "source": [
    "dSGDC = SGDClassifier(loss='modified_huber', penalty='none', alpha=0.0001, l1_ratio=0.15, epsilon=0.1, eta0=0.0, power_t=0.5, random_state=10)\n",
    "dSGDC.fit(x_train, y_train)\n",
    "y_predict = dSGDC.predict(x_test)\n",
    "accuracy_score(y_test, y_predict)"
   ]
  },
  {
   "cell_type": "code",
   "execution_count": 404,
   "metadata": {},
   "outputs": [
    {
     "data": {
      "text/plain": [
       "0.7416666666666667"
      ]
     },
     "execution_count": 404,
     "metadata": {},
     "output_type": "execute_result"
    }
   ],
   "source": [
    "dSGDC = SGDClassifier(loss='squared_hinge', penalty='none', alpha=0.0001, l1_ratio=0.15, epsilon=0.1, eta0=0.0, power_t=0.5, random_state=10)\n",
    "dSGDC.fit(x_train, y_train)\n",
    "y_predict = dSGDC.predict(x_test)\n",
    "accuracy_score(y_test, y_predict)"
   ]
  },
  {
   "cell_type": "code",
   "execution_count": 405,
   "metadata": {},
   "outputs": [
    {
     "data": {
      "text/plain": [
       "0.25833333333333336"
      ]
     },
     "execution_count": 405,
     "metadata": {},
     "output_type": "execute_result"
    }
   ],
   "source": [
    "dSGDC = SGDClassifier(loss='perceptron', penalty='none', alpha=0.0001, l1_ratio=0.15, epsilon=0.1, eta0=0.0, power_t=0.5, random_state=10)\n",
    "dSGDC.fit(x_train, y_train)\n",
    "y_predict = dSGDC.predict(x_test)\n",
    "accuracy_score(y_test, y_predict)"
   ]
  },
  {
   "cell_type": "code",
   "execution_count": 406,
   "metadata": {},
   "outputs": [
    {
     "name": "stderr",
     "output_type": "stream",
     "text": [
      "C:\\Users\\ajskr\\Miniconda3\\envs\\Inv-Corta-1\\lib\\site-packages\\sklearn\\linear_model\\stochastic_gradient.py:561: ConvergenceWarning: Maximum number of iteration reached before convergence. Consider increasing max_iter to improve the fit.\n",
      "  ConvergenceWarning)\n"
     ]
    },
    {
     "data": {
      "text/plain": [
       "0.7416666666666667"
      ]
     },
     "execution_count": 406,
     "metadata": {},
     "output_type": "execute_result"
    }
   ],
   "source": [
    "dSGDC = SGDClassifier(loss='huber', penalty='none', alpha=0.0001, l1_ratio=0.15, epsilon=0.1, eta0=0.0, power_t=0.5, random_state=10)\n",
    "dSGDC.fit(x_train, y_train)\n",
    "y_predict = dSGDC.predict(x_test)\n",
    "accuracy_score(y_test, y_predict)"
   ]
  },
  {
   "cell_type": "code",
   "execution_count": 408,
   "metadata": {},
   "outputs": [
    {
     "data": {
      "text/plain": [
       "0.25833333333333336"
      ]
     },
     "execution_count": 408,
     "metadata": {},
     "output_type": "execute_result"
    }
   ],
   "source": [
    "dSGDC = SGDClassifier(loss='huber', penalty='none', alpha=0.0001, l1_ratio=0.15, epsilon=0.1, eta0=0.0, power_t=0.5, max_iter=2000, random_state=10)\n",
    "dSGDC.fit(x_train, y_train)\n",
    "y_predict = dSGDC.predict(x_test)\n",
    "accuracy_score(y_test, y_predict)"
   ]
  },
  {
   "cell_type": "code",
   "execution_count": 409,
   "metadata": {},
   "outputs": [],
   "source": [
    "dSGDC = SGDClassifier(loss='hinge', penalty='l2', alpha=0.0001, l1_ratio=0.15, epsilon=0.1, eta0=0.0, power_t=0.5, random_state=10)\n",
    "dSGDC.fit(x_train, y_train)\n",
    "y_predict = dSGDC.predict(x_test)\n",
    "m5 = accuracy_score(y_test, y_predict)"
   ]
  },
  {
   "cell_type": "markdown",
   "metadata": {},
   "source": [
    "## Aplicación de Bagging meta-estimator (Método 6) (Con Ensemble)"
   ]
  },
  {
   "cell_type": "markdown",
   "metadata": {},
   "source": [
    "Otro método del tipo Ensemble donde generalizar después de generalizar los grupos de datos.  Bagging meta-estimator puede elegir el método de generalización de los grupos; en este caso, se utilizará k Near Neighbors."
   ]
  },
  {
   "cell_type": "code",
   "execution_count": 410,
   "metadata": {},
   "outputs": [],
   "source": [
    "from sklearn.ensemble import BaggingClassifier"
   ]
  },
  {
   "cell_type": "code",
   "execution_count": 417,
   "metadata": {},
   "outputs": [
    {
     "data": {
      "text/plain": [
       "0.7041666666666667"
      ]
     },
     "execution_count": 417,
     "metadata": {},
     "output_type": "execute_result"
    }
   ],
   "source": [
    "dBC = BaggingClassifier(KNeighborsClassifier(),n_estimators=10,random_state=10)\n",
    "dBC.fit(x_train, y_train)\n",
    "y_predict = dBC.predict(x_test)\n",
    "accuracy_score(y_test, y_predict)"
   ]
  },
  {
   "cell_type": "code",
   "execution_count": 418,
   "metadata": {},
   "outputs": [
    {
     "data": {
      "text/plain": [
       "0.725"
      ]
     },
     "execution_count": 418,
     "metadata": {},
     "output_type": "execute_result"
    }
   ],
   "source": [
    "dBC = BaggingClassifier(KNeighborsClassifier(),n_estimators=20,random_state=10)\n",
    "dBC.fit(x_train, y_train)\n",
    "y_predict = dBC.predict(x_test)\n",
    "accuracy_score(y_test, y_predict)"
   ]
  },
  {
   "cell_type": "code",
   "execution_count": 419,
   "metadata": {},
   "outputs": [
    {
     "data": {
      "text/plain": [
       "0.7083333333333334"
      ]
     },
     "execution_count": 419,
     "metadata": {},
     "output_type": "execute_result"
    }
   ],
   "source": [
    "dBC = BaggingClassifier(KNeighborsClassifier(),n_estimators=50,random_state=10)\n",
    "dBC.fit(x_train, y_train)\n",
    "y_predict = dBC.predict(x_test)\n",
    "accuracy_score(y_test, y_predict)"
   ]
  },
  {
   "cell_type": "code",
   "execution_count": 420,
   "metadata": {},
   "outputs": [
    {
     "data": {
      "text/plain": [
       "0.7125"
      ]
     },
     "execution_count": 420,
     "metadata": {},
     "output_type": "execute_result"
    }
   ],
   "source": [
    "dBC = BaggingClassifier(KNeighborsClassifier(),n_estimators=35,random_state=10)\n",
    "dBC.fit(x_train, y_train)\n",
    "y_predict = dBC.predict(x_test)\n",
    "accuracy_score(y_test, y_predict)"
   ]
  },
  {
   "cell_type": "code",
   "execution_count": 421,
   "metadata": {},
   "outputs": [
    {
     "data": {
      "text/plain": [
       "0.7125"
      ]
     },
     "execution_count": 421,
     "metadata": {},
     "output_type": "execute_result"
    }
   ],
   "source": [
    "dBC = BaggingClassifier(KNeighborsClassifier(),n_estimators=28,random_state=10)\n",
    "dBC.fit(x_train, y_train)\n",
    "y_predict = dBC.predict(x_test)\n",
    "accuracy_score(y_test, y_predict)"
   ]
  },
  {
   "cell_type": "code",
   "execution_count": 422,
   "metadata": {},
   "outputs": [
    {
     "data": {
      "text/plain": [
       "0.7125"
      ]
     },
     "execution_count": 422,
     "metadata": {},
     "output_type": "execute_result"
    }
   ],
   "source": [
    "dBC = BaggingClassifier(KNeighborsClassifier(),n_estimators=30,random_state=10)\n",
    "dBC.fit(x_train, y_train)\n",
    "y_predict = dBC.predict(x_test)\n",
    "accuracy_score(y_test, y_predict)"
   ]
  },
  {
   "cell_type": "markdown",
   "metadata": {},
   "source": [
    "Se observa que el valor óptimo es 20."
   ]
  },
  {
   "cell_type": "code",
   "execution_count": 423,
   "metadata": {},
   "outputs": [],
   "source": [
    "dBC = BaggingClassifier(KNeighborsClassifier(),n_estimators=20,random_state=10)\n",
    "dBC.fit(x_train, y_train)\n",
    "y_predict = dBC.predict(x_test)\n",
    "m6 = accuracy_score(y_test, y_predict)"
   ]
  },
  {
   "cell_type": "markdown",
   "metadata": {},
   "source": [
    "## Resumen"
   ]
  },
  {
   "cell_type": "code",
   "execution_count": 424,
   "metadata": {},
   "outputs": [],
   "source": [
    "Resultados = pd.DataFrame({'Método':['DecisionTreeClassifier','RandomForestClassifier (Ensemble)','naives Bayes','kNearest Neighbors','SDGClassifier','Bagging meta-estimator (Ensemble)'],'Resultado':[m1,m2,m3,m4,m5,m6]})"
   ]
  },
  {
   "cell_type": "code",
   "execution_count": 425,
   "metadata": {},
   "outputs": [
    {
     "data": {
      "text/html": [
       "<div>\n",
       "<style scoped>\n",
       "    .dataframe tbody tr th:only-of-type {\n",
       "        vertical-align: middle;\n",
       "    }\n",
       "\n",
       "    .dataframe tbody tr th {\n",
       "        vertical-align: top;\n",
       "    }\n",
       "\n",
       "    .dataframe thead th {\n",
       "        text-align: right;\n",
       "    }\n",
       "</style>\n",
       "<table border=\"1\" class=\"dataframe\">\n",
       "  <thead>\n",
       "    <tr style=\"text-align: right;\">\n",
       "      <th></th>\n",
       "      <th>Método</th>\n",
       "      <th>Resultado</th>\n",
       "    </tr>\n",
       "  </thead>\n",
       "  <tbody>\n",
       "    <tr>\n",
       "      <th>0</th>\n",
       "      <td>DecisionTreeClassifier</td>\n",
       "      <td>0.741667</td>\n",
       "    </tr>\n",
       "    <tr>\n",
       "      <th>1</th>\n",
       "      <td>RandomForestClassifier (Ensemble)</td>\n",
       "      <td>0.741667</td>\n",
       "    </tr>\n",
       "    <tr>\n",
       "      <th>2</th>\n",
       "      <td>naives Bayes</td>\n",
       "      <td>0.741667</td>\n",
       "    </tr>\n",
       "    <tr>\n",
       "      <th>3</th>\n",
       "      <td>kNearest Neighbors</td>\n",
       "      <td>0.741667</td>\n",
       "    </tr>\n",
       "    <tr>\n",
       "      <th>4</th>\n",
       "      <td>SDGClassifier</td>\n",
       "      <td>0.741667</td>\n",
       "    </tr>\n",
       "    <tr>\n",
       "      <th>5</th>\n",
       "      <td>Bagging meta-estimator (Ensemble)</td>\n",
       "      <td>0.725000</td>\n",
       "    </tr>\n",
       "  </tbody>\n",
       "</table>\n",
       "</div>"
      ],
      "text/plain": [
       "                              Método  Resultado\n",
       "0             DecisionTreeClassifier   0.741667\n",
       "1  RandomForestClassifier (Ensemble)   0.741667\n",
       "2                       naives Bayes   0.741667\n",
       "3                 kNearest Neighbors   0.741667\n",
       "4                      SDGClassifier   0.741667\n",
       "5  Bagging meta-estimator (Ensemble)   0.725000"
      ]
     },
     "execution_count": 425,
     "metadata": {},
     "output_type": "execute_result"
    }
   ],
   "source": [
    "Resultados"
   ]
  },
  {
   "cell_type": "markdown",
   "metadata": {},
   "source": [
    "Se observa que entre todos los métodos optimizados muestran los mismos valores, lo cual puede ser causado por la simplicidad del conjunto de datos.  Sin embargo, llama la atención que el Bagging meta-estimator muestre valores inferiores al kNearest Neighbors, ya que se esperaba que reduciera el overfitting con lo que mejoraría el resultado general de los kNearest Neighbors."
   ]
  },
  {
   "cell_type": "code",
   "execution_count": null,
   "metadata": {},
   "outputs": [],
   "source": []
  }
 ],
 "metadata": {
  "kernelspec": {
   "display_name": "Python 3",
   "language": "python",
   "name": "python3"
  },
  "language_info": {
   "codemirror_mode": {
    "name": "ipython",
    "version": 3
   },
   "file_extension": ".py",
   "mimetype": "text/x-python",
   "name": "python",
   "nbconvert_exporter": "python",
   "pygments_lexer": "ipython3",
   "version": "3.7.3"
  }
 },
 "nbformat": 4,
 "nbformat_minor": 2
}
